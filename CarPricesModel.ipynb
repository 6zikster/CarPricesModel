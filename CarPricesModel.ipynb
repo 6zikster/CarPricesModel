{
  "cells": [
    {
      "cell_type": "code",
      "execution_count": 34,
      "metadata": {
        "id": "CVQD3u1km2Tj"
      },
      "outputs": [],
      "source": [
        "import numpy as np\n"
      ]
    },
    {
      "cell_type": "markdown",
      "metadata": {
        "id": "fak9CUhCjJwt"
      },
      "source": [
        "# Data Collection\n",
        "Parse local website with cars"
      ]
    },
    {
      "cell_type": "code",
      "execution_count": 35,
      "metadata": {
        "colab": {
          "base_uri": "https://localhost:8080/"
        },
        "id": "U-JstlVRIwqr",
        "outputId": "be85359c-bcbe-4285-a29f-2761585a6226"
      },
      "outputs": [
        {
          "name": "stdout",
          "output_type": "stream",
          "text": [
            "Parsing page 1\n",
            "Parsing page 2\n",
            "Parsing page 3\n",
            "Parsing page 4\n",
            "Parsing page 5\n",
            "Parsing page 6\n",
            "Parsing page 7\n",
            "Parsing page 8\n",
            "Parsing page 9\n",
            "Parsing page 10\n",
            "Parsing page 11\n",
            "Parsing page 12\n",
            "Parsing page 13\n",
            "Parsing page 14\n",
            "Parsing page 15\n",
            "Parsing page 16\n",
            "Parsing page 17\n",
            "Parsing page 18\n",
            "Parsing page 19\n",
            "Parsing page 20\n",
            "Parsing page 21\n",
            "Parsing page 22\n",
            "Parsing page 23\n",
            "Parsing page 24\n",
            "Parsing page 25\n",
            "Parsing page 26\n",
            "Parsing page 27\n",
            "Parsing page 28\n",
            "Parsing page 29\n",
            "Parsing page 30\n",
            "Parsing page 31\n",
            "Parsing page 32\n",
            "Parsing page 33\n",
            "Parsing page 34\n",
            "Parsing page 35\n",
            "Parsing page 36\n",
            "Parsing page 37\n",
            "Parsing page 38\n",
            "Parsing page 39\n",
            "Parsing page 40\n",
            "Parsing page 41\n",
            "Parsing page 42\n",
            "Parsing page 43\n",
            "Parsing page 44\n",
            "Parsing page 45\n",
            "Parsing page 46\n",
            "Parsing page 47\n",
            "Parsing page 48\n",
            "Parsing page 49\n",
            "Parsing page 50\n",
            "Parsing page 51\n",
            "Parsing page 52\n",
            "Parsing page 53\n",
            "Parsing page 54\n",
            "Parsing page 55\n",
            "Parsing page 56\n",
            "Parsing page 57\n",
            "Parsing page 58\n",
            "Parsing page 59\n",
            "Parsing page 60\n",
            "Parsing page 61\n",
            "Parsing page 62\n",
            "Parsing page 63\n",
            "Parsing page 64\n",
            "Parsing page 65\n",
            "Parsing page 66\n",
            "Parsing page 67\n",
            "Parsing page 68\n",
            "Parsing page 69\n",
            "Parsing page 70\n",
            "Parsing page 71\n",
            "Parsing page 72\n",
            "Parsing page 73\n",
            "Parsing page 74\n",
            "Parsing page 75\n",
            "Parsing page 76\n",
            "Parsing page 77\n",
            "Parsing page 78\n",
            "Parsing page 79\n",
            "Parsing page 80\n",
            "Parsing page 81\n",
            "Parsing page 82\n",
            "Parsing page 83\n",
            "Parsing page 84\n",
            "Parsing page 85\n",
            "Parsing page 86\n",
            "Parsing page 87\n",
            "Parsing page 88\n",
            "Parsing page 89\n",
            "Parsing page 90\n",
            "Parsing page 91\n",
            "Parsing page 92\n",
            "Parsing page 93\n",
            "Parsing page 94\n",
            "Parsing page 95\n",
            "Parsing page 96\n",
            "Parsing page 97\n",
            "Parsing page 98\n",
            "Parsing page 99\n",
            "Parsing page 100\n",
            "Parsing page 101\n",
            "Parsing page 102\n",
            "Parsing page 103\n",
            "Parsing page 104\n",
            "Parsing page 105\n",
            "Parsing page 106\n",
            "Parsing page 107\n",
            "Parsing page 108\n",
            "Parsing page 109\n",
            "Parsing page 110\n",
            "Parsing page 111\n",
            "Parsing page 112\n",
            "Parsing page 113\n",
            "Parsing page 114\n",
            "Parsing page 115\n",
            "Parsing page 116\n",
            "Parsing page 117\n",
            "Parsing page 118\n",
            "Parsing page 119\n",
            "Parsing page 120\n",
            "Parsing page 121\n",
            "Parsing page 122\n",
            "Parsing page 123\n",
            "Parsing page 124\n",
            "Parsing page 125\n",
            "Parsing page 126\n",
            "Parsing page 127\n",
            "Parsing page 128\n",
            "Parsing page 129\n",
            "Parsing page 130\n",
            "Parsing page 131\n",
            "Parsing page 132\n",
            "Parsing page 133\n",
            "Parsing page 134\n",
            "Parsing page 135\n",
            "Parsing page 136\n",
            "Parsing page 137\n",
            "Parsing page 138\n",
            "Parsing page 139\n",
            "Parsing page 140\n",
            "Parsing page 141\n",
            "Parsing page 142\n",
            "Parsing page 143\n",
            "Parsing page 144\n",
            "Parsing page 145\n",
            "Parsing page 146\n",
            "Parsing page 147\n",
            "Parsing page 148\n",
            "Parsing page 149\n",
            "Parsing page 150\n",
            "Parsing page 151\n",
            "Parsing page 152\n",
            "Parsing page 153\n",
            "Parsing page 154\n",
            "Parsing page 155\n",
            "Parsing page 156\n",
            "Parsing page 157\n",
            "Parsing page 158\n",
            "Parsing page 159\n",
            "Parsing page 160\n",
            "Parsing page 161\n",
            "Parsing page 162\n",
            "Parsing page 163\n",
            "Parsing page 164\n",
            "Parsing page 165\n",
            "Parsing page 166\n",
            "Parsing page 167\n",
            "Parsing page 168\n",
            "Parsing page 169\n",
            "Parsing page 170\n",
            "Parsing page 171\n",
            "Parsing page 172\n",
            "Parsing page 173\n",
            "Parsing page 174\n",
            "Parsing page 175\n",
            "Parsing page 176\n",
            "Parsing page 177\n",
            "Parsing page 178\n",
            "Parsing page 179\n",
            "Parsing page 180\n",
            "Parsing page 181\n",
            "Parsing page 182\n",
            "Parsing page 183\n",
            "Parsing page 184\n",
            "Parsing page 185\n",
            "Parsing page 186\n",
            "Parsing page 187\n",
            "Parsing page 188\n",
            "Parsing page 189\n",
            "Parsing page 190\n",
            "Parsing page 191\n",
            "Parsing page 192\n",
            "Parsing page 193\n",
            "Parsing page 194\n",
            "Parsing page 195\n",
            "Parsing page 196\n",
            "Parsing page 197\n",
            "Parsing page 198\n",
            "Parsing page 199\n",
            "Parsing page 200\n"
          ]
        }
      ],
      "source": [
        "import requests, json\n",
        "\n",
        "\n",
        "\n",
        "headers = '''\n",
        "authority: auto.ru\n",
        "method: POST\n",
        "path: /-/ajax/desktop/listingSpecial/\n",
        "scheme: https\n",
        "Accept: */*\n",
        "Accept-Encoding: gzip, deflate, br\n",
        "Accept-Language: en-US,en;q=0.9,ru-RU;q=0.8,ru;q=0.7\n",
        "Content-Length: 67\n",
        "Content-Type: application/json\n",
        "Cookie: gdpr=0; _ym_uid=1702491706155596107; _ym_isad=2; spravka=dD0xNzAyNDkxNzE5O2k9MTg1LjIzMC4yNDAuMTYwO0Q9OTA4NEE0RTBGREM0NTgwRkNENjg1RTkzQzlFMDQ3OTg4QkU4Q0U1QzVENURCNzQ4NDI2MDBDNTg2NTgyMDYyQUQ3NkM3NEM2QkZDNDdEQUVFQzFGQjczMkQ3RDg4RkZBODZGQzhEQTg3QkU3MTJEM0U1QjM5OTBEM0E1REZBMzk3RTZDO3U9MTcwMjQ5MTcxOTkwMDM1NTk3MztoPWYwZjZiYmVmY2JjNDYwY2RlYTA3MTc2ZTY5OWEzZThk; suid=d01d16dfc09120126833467977600168.b477b74a3a36b25ac162c37a77073a99; _csrf_token=499c86a4c99ec37567e9477604b5e98464d150e26aa83b83; autoruuid=g6579f6482delqjk0qcmm97ajhkpa2m5.2a5bb5a00a7ec05b6b844aad96237a6a; yandex_login=solodov2vlad; i=+0Tt9frWd6wWlKJAIAMLLPztSZwVs305O1lbepIqdrHWChMByEw8BsZ36lQv1XnEjMYHFjwyjeY9CDICGgFY84nwQF8=; yandexuid=3553563921674213957; L=B219eGgJA3ZmDHd2a1VYcUtGYWIEfABfNR9aHVddGnQbJhgs.1700660588.15534.351466.79e8b72ec615774783371978be9aff3f; yaPassportTryAutologin=1; popups-dr-shown-count=1; fp=4848210a9559dffff3e303c17ce3fcad%7C1702491725478; autoru_sid=98595333%7C1702491724086.7776000.hxmgD8gCiXTnzlk-t7ayyg.9sWxTrGFeqZXfY_azuFQ60174oyFll-eB2-wq2f5QU0; autoru_gdpr=1; from=direct; autoru_sso_blocked=1; Session_id=3:1702547765.5.0.1700660588761:oPDmuQ:cc.1.2:1|886815293.0.2.3:1700660588|61:10018323.901995.2NlXMPu-MNh2X4Yyy9b3tKbLmGY; sessar=1.1184.CiBj0T2qJs75n4DNv-qqhnj_mMA-MCrcLYIMQ2Alguh59g.wDPQcSUCHZghoraa8idi3_4VFXBUuBbczknr8x57UdE; ys=udn.cDrQktC70LDQtCBDb9C70L7QtNC%2B0LI%3D#c_chck.2950739780; mda2_beacon=1702547765278; sso_status=sso.passport.yandex.ru:synchronized; cycada=Bq4ODN1EFkL/DMrFaDMiXfuJH3Zm7Ed8Ed7AOFiMiPI=; _ym_d=1702548582; layout-config={\"screen_height\":1080,\"screen_width\":1920,\"win_width\":769,\"win_height\":919}; count-visits=4; _yasc=fbFpOL2iC3D22oIa8IlVcgs0m968yvdqEOE1yVtwVvou9ssgGLez9OhAXbn4KQUijnX33zWm7lYIIcs=; from_lifetime=1702549154320\n",
        "Origin: https://auto.ru\n",
        "Referer: https://auto.ru/taganrog/cars/all/\n",
        "Sec-Ch-Ua: \"Not_A Brand\";v=\"8\", \"Chromium\";v=\"120\", \"Google Chrome\";v=\"120\"\n",
        "Sec-Ch-Ua-Mobile: ?0\n",
        "Sec-Ch-Ua-Platform: \"Windows\"\n",
        "Sec-Fetch-Dest: empty\n",
        "Sec-Fetch-Mode: same-origin\n",
        "Sec-Fetch-Site: same-origin\n",
        "User-Agent: Mozilla/5.0 (Windows NT 10.0; Win64; x64) AppleWebKit/537.36 (KHTML, like Gecko) Chrome/120.0.0.0 Safari/537.36\n",
        "X-Client-App-Version: 559.0.13081605\n",
        "X-Client-Date: 1702549155094\n",
        "X-Csrf-Token: 499c86a4c99ec37567e9477604b5e98464d150e26aa83b83\n",
        "X-Page-Request-Id: 7f81654aaa789d5384f52f416884f85d\n",
        "X-Requested-With: XMLHttpRequest\n",
        "X-Retpath-Y: https://auto.ru/taganrog/cars/all/\n",
        "X-Yafp: {\"a1\":\"IMF0bURvryz6Sg==;0\",\"a2\":\"PyBs0uxk94Q0K/CJ4jmv+nAvAh632w==;1\",\"a3\":\"s5qpsuW8odHNGXxjrAvG1g==;2\",\"a4\":\"BX3P7HPc1apwnPBqW/qTVUvhGWvj3kbWIaFeUhTlW2YPrw==;3\",\"a5\":\"pHQOWQ4g0Fb8Tw==;4\",\"a6\":\"/Zg=;5\",\"a7\":\"BLpQ3H14IAngzA==;6\",\"a8\":\"x5bkl2Nvf0s=;7\",\"a9\":\"EMCAVhKRZ1qZzQ==;8\",\"b1\":\"mYAzq1lnLB4=;9\",\"b2\":\"RKcT7+R+I+oeRg==;10\",\"b3\":\"FywAV35iCqaslw==;11\",\"b4\":\"OHgg0UP56UI=;12\",\"b5\":\"EorkLbe9w2brfg==;13\",\"b6\":\"N9HJQEuDOaqfJQ==;14\",\"b7\":\"G9aWKda0sy3tiw==;15\",\"b8\":\"PUoNLIZoLfVb3w==;16\",\"b9\":\"b710RUVrpQMzWw==;17\",\"c1\":\"BTchpA==;18\",\"c2\":\"tXIVHIy/AYscJuXaXHBu7llI;19\",\"c3\":\"RVqJEP4cx1sd/5yKSkB03qrc;20\",\"c4\":\"QaOR5deoLJQ=;21\",\"c5\":\"KiWTCGlHiAg=;22\",\"c6\":\"Bu3Dmg==;23\",\"c7\":\"iHoFvqWmJb4=;24\",\"c8\":\"fDA=;25\",\"c9\":\"KSGw+5Tgg9Q=;26\",\"d1\":\"LI2CzRtgD9E=;27\",\"d2\":\"TVR2Lg==;28\",\"d3\":\"I+jAUgRN9kSvxg==;29\",\"d4\":\"K/V+2R9VJkU=;30\",\"d5\":\"J9x+93VodwMBxw==;31\",\"d7\":\"cf8flNJAGNo=;32\",\"d8\":\"dKuf4MA9GJuZr7NO/n3xbCMDZcdlLvSbN/8=;33\",\"d9\":\"bPcxToeEiBc=;34\",\"e1\":\"KxKXmBTYbzzVnA==;35\",\"e2\":\"4AMLW3FkH5E=;36\",\"e3\":\"ZFTPGB/mdeo=;37\",\"e4\":\"UHDeI+e8szY=;38\",\"e5\":\"IOZHjuTOM2yO6w==;39\",\"e6\":\"brKsftMVSk0=;40\",\"e7\":\"sIxD+k1H05hlFw==;41\",\"e8\":\"MABVpZphdBo=;42\",\"e9\":\"GWe0b8XkuMU=;43\",\"f1\":\"PSJd46cEgtLbIA==;44\",\"f2\":\"ClcfrpTAptA=;45\",\"f3\":\"VmEkiYlozWvMVA==;46\",\"f4\":\"Y9GHba6Hc5E=;47\",\"f5\":\"0RbQQ0bHJ4KPbA==;48\",\"f6\":\"KwYLlZ6jVQJ8Dg==;49\",\"f7\":\"WZf1zGkgz1393w==;50\",\"f8\":\"aylJTgCY+spOPg==;51\",\"f9\":\"9QuOKPXI4ew=;52\",\"g1\":\"5r1boPAW+JDbrw==;53\",\"g2\":\"IaaCRMb8Mr5zQQ==;54\",\"g3\":\"Ye6yiOh8iG8=;55\",\"g4\":\"XRVmj9QPKyWSfQ==;56\",\"g5\":\"W1hJ/njt998=;57\",\"g6\":\"+xisoknNs3c=;58\",\"g7\":\"bCP5L/KG/5U=;59\",\"g8\":\"MSdZRc/NPHE=;60\",\"g9\":\"QM5Rv1Z3Xa4=;61\",\"h1\":\"Z8tYGp3qa2JlqQ==;62\",\"h2\":\"2MUpXLLWjEKojA==;63\",\"h3\":\"zCzT8a29+Q/JUg==;64\",\"h4\":\"xHlZCQ0jp/sb/Q==;65\",\"h5\":\"F2KpIcx44hI=;66\",\"h6\":\"KM0BzYtqGXNL1g==;67\",\"h7\":\"wKDY+isYfSDzp6/t/O4KHbKhKXkq7DTp9HLLn6FwIfNMKHVT;68\",\"h8\":\"B03PcLIFQEhcdQ==;69\",\"h9\":\"w9ul1t0TlMOrfQ==;70\",\"i1\":\"V1ItNmSP6E0=;71\",\"i2\":\"G6Bj+zEjdkB1SA==;72\",\"i3\":\"/+1ePVf+eglclw==;73\",\"i4\":\"3r89Bsz+HNpZCQ==;74\",\"i5\":\"7KM3NTU60+4G8Q==;75\",\"z1\":\"Bb/Ui/OXY9UdXqgMUkWaABKmNa8ffObNcaz28bN0cMLuQM6O6RcxSY5X00O9G3d9D2uskgUnx9NuXtYbxsKSqw==;76\",\"z2\":\"FXiyJrWv6QiPHjyQcwswoTzfE8GevElXQsXJn9OrlQCKf7gr0TeEXjQjbRmrQTTKHQwnKojRV8TSGc9SbF9vXw==;77\",\"y2\":\"biwSPnHfadN3Dg==;78\",\"y3\":\"C7Jo+mINo3wFNQ==;79\",\"y6\":\"89N5BfqQ1f+YPg==;80\",\"y8\":\"jIeqHdPDfMBvqA==;81\",\"x4\":\"mckn8T7Cni13Qg==;82\",\"z5\":\"DKQuanlfMO8=;83\",\"z4\":\"3zTbE36933hrbA==;84\",\"z6\":\"BpBgzndvtxrC+tGQ;85\",\"z7\":\"TWKyNy+7pZ2vXZWr;86\",\"z8\":\"BSZnVmv2k4DUqh9wfZc=;87\",\"z9\":\"iYsrJVK1LiuuKKns;88\",\"y1\":\"8RTmwHkZIvTuLJif;89\",\"y4\":\"mep14hAiqwF/rsHg;90\",\"y5\":\"AMlhWbDul+GQbBreHFo=;91\",\"y7\":\"Uvtmm17QhwsZ83Uj;92\",\"y9\":\"VZ79cZuumWWppxCNZe8=;93\",\"y10\":\"GY71kZHYGGHMUGlfPag=;94\",\"x1\":\"KzhWdfJTbNa2EqbV;95\",\"x2\":\"UvU3CDW5yy0QZ1Jcggg=;96\",\"x3\":\"gceHmPhdY6EqcXeI;97\",\"x5\":\"DkhpTO2OPeeahL9Y;98\",\"z3\":\"Tc8ZxIEEVSC+MY8l+iM=;99\",\"v\":\"6.3.1\",\"pgrdt\":\"adxI5LUyFBshqG9cEf49xHmzRlQ=;100\",\"pgrd\":\"gU6hrsWzuCY1QMRQ2CI9eJ+pPiTRlDlEsXK5/RwwaO+uRlkKkx+Uar1ucUlvYfI0STDmJTzXT7DtIyej275V2ej1Rb5WrIDFTvtkHuclWDwJL13BnCiNA3XgqMhyA20GFiRuDt+cq8AfPihT7MpkDdqLGv4x2uCxIoasVHOsBHrmeLUTNAevWi/dOd2nl51tGvTWg8X1ACXs9MDjOnlLb2CqnGk=\"}\n",
        "'''.strip().split(\"\\n\")\n",
        "\n",
        "dict_headers = {}\n",
        "for header in headers:\n",
        "    key, value = header.split(': ')\n",
        "    dict_headers[key] = value\n",
        "# print(dict_headers)\n",
        "\n",
        "url = \"https://auto.ru/-/ajax/desktop/listingSpecial/\"\n",
        "\n",
        "offers = []\n",
        "a=0\n",
        "while True:\n",
        "  try:\n",
        "      a+=1\n",
        "      param = {\"section\": \"all\", \"category\": \"cars\", \"geo_radius\": 300, \"geo_id\": \"[971]\", \"page\": a}\n",
        "      response = requests.post(url, json=param, headers=dict_headers)\n",
        "      offers.extend(response.json()['offers'])\n",
        "      print (\"Parsing page \" + str(a))\n",
        "\n",
        "      if (a==200):\n",
        "        break\n",
        "  except:\n",
        "      break\n",
        "\n",
        "with open(\"data.json\", \"w\", encoding=\"utf8\") as f:\n",
        "  json.dump(offers, f)"
      ]
    },
    {
      "cell_type": "code",
      "execution_count": 36,
      "metadata": {
        "id": "wfm--du0ZtoC"
      },
      "outputs": [],
      "source": [
        "import pandas\n",
        "pandas.read_json(\"data.json\").to_excel(\"output.xlsx\")\n"
      ]
    },
    {
      "cell_type": "markdown",
      "metadata": {
        "id": "BW0pkyKMjwT5"
      },
      "source": [
        "# Data Preparation"
      ]
    },
    {
      "cell_type": "markdown",
      "metadata": {
        "id": "k0eYJl26maFp"
      },
      "source": [
        "## Create dataset"
      ]
    },
    {
      "cell_type": "code",
      "execution_count": 37,
      "metadata": {
        "id": "CwUBpV0lj1Wl"
      },
      "outputs": [],
      "source": [
        "import numpy as np\n",
        "import pandas as pd\n",
        "import matplotlib.pyplot as plt"
      ]
    },
    {
      "cell_type": "code",
      "execution_count": 38,
      "metadata": {
        "id": "4CmJP2GPn_ma"
      },
      "outputs": [],
      "source": [
        "import pandas as pd\n",
        "json_file_path = 'data.json'\n",
        "\n",
        "# Read the JSON file into a Pandas DataFrame\n",
        "df = pd.read_json(json_file_path)\n",
        "\n"
      ]
    },
    {
      "cell_type": "code",
      "execution_count": 39,
      "metadata": {
        "colab": {
          "base_uri": "https://localhost:8080/"
        },
        "id": "cZxz6SX9owk_",
        "outputId": "ce5eacfd-e74c-4fa2-df05-4516142b3680"
      },
      "outputs": [
        {
          "name": "stdout",
          "output_type": "stream",
          "text": [
            "<class 'pandas.core.frame.DataFrame'>\n",
            "RangeIndex: 7400 entries, 0 to 7399\n",
            "Data columns (total 40 columns):\n",
            " #   Column                  Non-Null Count  Dtype \n",
            "---  ------                  --------------  ----- \n",
            " 0   availability            7400 non-null   object\n",
            " 1   color_hex               7400 non-null   object\n",
            " 2   delivery_info           7400 non-null   object\n",
            " 3   discount_options        7397 non-null   object\n",
            " 4   documents               7400 non-null   object\n",
            " 5   is_favorite             7400 non-null   bool  \n",
            " 6   old_category_id         7400 non-null   int64 \n",
            " 7   owner_expenses          7270 non-null   object\n",
            " 8   score                   7400 non-null   object\n",
            " 9   services                7400 non-null   object\n",
            " 10  status                  7400 non-null   object\n",
            " 11  tags                    7400 non-null   object\n",
            " 12  predicted_price_ranges  7400 non-null   object\n",
            " 13  user_ref                7400 non-null   object\n",
            " 14  source_info             7400 non-null   object\n",
            " 15  additional_info         7400 non-null   object\n",
            " 16  category                7400 non-null   object\n",
            " 17  counters                7400 non-null   object\n",
            " 18  hash                    7400 non-null   object\n",
            " 19  id                      7400 non-null   int64 \n",
            " 20  price_info              7400 non-null   object\n",
            " 21  price_history           7400 non-null   object\n",
            " 22  saleId                  7400 non-null   object\n",
            " 23  salon                   7400 non-null   object\n",
            " 24  section                 7400 non-null   object\n",
            " 25  seller                  7400 non-null   object\n",
            " 26  seller_type             7400 non-null   object\n",
            " 27  service_prices          7400 non-null   object\n",
            " 28  state                   7400 non-null   object\n",
            " 29  sub_category            7400 non-null   object\n",
            " 30  vehicle_info            7400 non-null   object\n",
            " 31  recommendation_tags     7400 non-null   object\n",
            " 32  title                   7400 non-null   object\n",
            " 33  url                     7400 non-null   object\n",
            " 34  shark_info              6202 non-null   object\n",
            " 35  seller_rating           1040 non-null   object\n",
            " 36  badges                  275 non-null    object\n",
            " 37  dealer_credit_config    47 non-null     object\n",
            " 38  brand_cert_info         3 non-null      object\n",
            " 39  discount_price          3 non-null      object\n",
            "dtypes: bool(1), int64(2), object(37)\n",
            "memory usage: 2.2+ MB\n"
          ]
        }
      ],
      "source": [
        "df.info()"
      ]
    },
    {
      "cell_type": "code",
      "execution_count": 40,
      "metadata": {
        "colab": {
          "base_uri": "https://localhost:8080/"
        },
        "id": "7iv4R59XJA8H",
        "outputId": "f7db03b6-8d54-4448-b5a7-fec08e2aaec2"
      },
      "outputs": [
        {
          "name": "stdout",
          "output_type": "stream",
          "text": [
            "<class 'pandas.core.frame.DataFrame'>\n",
            "RangeIndex: 7400 entries, 0 to 7399\n",
            "Data columns (total 20 columns):\n",
            " #   Column                    Non-Null Count  Dtype  \n",
            "---  ------                    --------------  -----  \n",
            " 0   owners_number             7400 non-null   int64  \n",
            " 1   pts_original              6094 non-null   object \n",
            " 2   custom_cleared            7400 non-null   bool   \n",
            " 3   year                      7400 non-null   int64  \n",
            " 4   vin                       7095 non-null   object \n",
            " 5   pts                       7039 non-null   object \n",
            " 6   license_plate             4750 non-null   object \n",
            " 7   pts_resolution_ok         7400 non-null   bool   \n",
            " 8   vin_resolution            6996 non-null   object \n",
            " 9   owners_resolution         6096 non-null   object \n",
            " 10  legal_resolution          6096 non-null   object \n",
            " 11  accidents_resolution      6096 non-null   object \n",
            " 12  not_registered_in_russia  2472 non-null   object \n",
            " 13  purchase_date.year        3296 non-null   float64\n",
            " 14  purchase_date.month       3296 non-null   float64\n",
            " 15  warranty                  123 non-null    object \n",
            " 16  warranty_expire.year      123 non-null    float64\n",
            " 17  warranty_expire.month     123 non-null    float64\n",
            " 18  warranty_expire.day       123 non-null    float64\n",
            " 19  extended_warranty_from    10 non-null     object \n",
            "dtypes: bool(2), float64(5), int64(2), object(11)\n",
            "memory usage: 1.0+ MB\n"
          ]
        }
      ],
      "source": [
        "dfDocuments = df['documents']\n",
        "\n",
        "dfDocuments = pd.json_normalize(dfDocuments)\n",
        "dfDocuments.info() #owners_number year"
      ]
    },
    {
      "cell_type": "code",
      "execution_count": 41,
      "metadata": {
        "colab": {
          "base_uri": "https://localhost:8080/"
        },
        "id": "xlLztd3ufh0f",
        "outputId": "518fe4f1-df08-4b60-92d3-dfaa426c6217"
      },
      "outputs": [
        {
          "name": "stdout",
          "output_type": "stream",
          "text": [
            "<class 'pandas.core.frame.DataFrame'>\n",
            "RangeIndex: 7400 entries, 0 to 7399\n",
            "Data columns (total 6 columns):\n",
            " #   Column    Non-Null Count  Dtype \n",
            "---  ------    --------------  ----- \n",
            " 0   price     7400 non-null   int64 \n",
            " 1   currency  7400 non-null   object\n",
            " 2   EUR       7400 non-null   int64 \n",
            " 3   RUR       7400 non-null   int64 \n",
            " 4   USD       7400 non-null   int64 \n",
            " 5   with_nds  7400 non-null   bool  \n",
            "dtypes: bool(1), int64(4), object(1)\n",
            "memory usage: 296.4+ KB\n"
          ]
        }
      ],
      "source": [
        "dfPrice = df['price_info']\n",
        "\n",
        "dfPrice = pd.json_normalize(dfPrice)\n",
        "dfPrice.info() #RUR"
      ]
    },
    {
      "cell_type": "code",
      "execution_count": 42,
      "metadata": {
        "colab": {
          "base_uri": "https://localhost:8080/"
        },
        "id": "MlTb2D1hf4Gn",
        "outputId": "e9174e78-53a3-4f5d-d73d-a9ddc91859ee"
      },
      "outputs": [
        {
          "name": "stdout",
          "output_type": "stream",
          "text": [
            "<class 'pandas.core.frame.DataFrame'>\n",
            "RangeIndex: 7400 entries, 0 to 7399\n",
            "Data columns (total 63 columns):\n",
            " #   Column                                                               Non-Null Count  Dtype  \n",
            "---  ------                                                               --------------  -----  \n",
            " 0   condition                                                            7400 non-null   object \n",
            " 1   mileage                                                              7400 non-null   int64  \n",
            " 2   image_urls                                                           7400 non-null   object \n",
            " 3   images_count                                                         7400 non-null   int64  \n",
            " 4   external_panorama.published.id                                       170 non-null    object \n",
            " 5   external_panorama.published.status                                   170 non-null    object \n",
            " 6   external_panorama.published.video_h264.preview_url                   170 non-null    object \n",
            " 7   external_panorama.published.video_h264.full_url                      170 non-null    object \n",
            " 8   external_panorama.published.video_h264.high_res_url                  170 non-null    object \n",
            " 9   external_panorama.published.video_h264.low_res_url                   170 non-null    object \n",
            " 10  external_panorama.published.picture_png.count                        170 non-null    float64\n",
            " 11  external_panorama.published.picture_png.preview_first_frame          170 non-null    object \n",
            " 12  external_panorama.published.picture_png.full_first_frame             170 non-null    object \n",
            " 13  external_panorama.published.picture_png.high_res_first_frame         170 non-null    object \n",
            " 14  external_panorama.published.video_webm.preview_url                   170 non-null    object \n",
            " 15  external_panorama.published.video_webm.full_url                      170 non-null    object \n",
            " 16  external_panorama.published.video_webm.high_res_url                  170 non-null    object \n",
            " 17  external_panorama.published.video_webm.low_res_url                   170 non-null    object \n",
            " 18  external_panorama.published.picture_jpeg.count                       170 non-null    float64\n",
            " 19  external_panorama.published.picture_jpeg.preview_first_frame         170 non-null    object \n",
            " 20  external_panorama.published.picture_jpeg.full_first_frame            170 non-null    object \n",
            " 21  external_panorama.published.picture_jpeg.high_res_first_frame        170 non-null    object \n",
            " 22  external_panorama.published.picture_webp.count                       170 non-null    float64\n",
            " 23  external_panorama.published.picture_webp.preview_first_frame         170 non-null    object \n",
            " 24  external_panorama.published.picture_webp.full_first_frame            170 non-null    object \n",
            " 25  external_panorama.published.picture_webp.high_res_first_frame        170 non-null    object \n",
            " 26  external_panorama.published.published                                170 non-null    object \n",
            " 27  external_panorama.published.preview                                  170 non-null    object \n",
            " 28  external_panorama.published.quality_r4x3                             170 non-null    float64\n",
            " 29  external_panorama.published.quality_r16x9                            170 non-null    float64\n",
            " 30  external_panorama.published.video_mp4_r16x9.preview_url              170 non-null    object \n",
            " 31  external_panorama.published.video_mp4_r16x9.full_url                 170 non-null    object \n",
            " 32  external_panorama.published.video_mp4_r16x9.high_res_url             170 non-null    object \n",
            " 33  external_panorama.published.video_mp4_r16x9.low_res_url              170 non-null    object \n",
            " 34  external_panorama.published.video_webm_r16x9.preview_url             170 non-null    object \n",
            " 35  external_panorama.published.video_webm_r16x9.full_url                170 non-null    object \n",
            " 36  external_panorama.published.video_webm_r16x9.high_res_url            170 non-null    object \n",
            " 37  external_panorama.published.video_webm_r16x9.low_res_url             170 non-null    object \n",
            " 38  external_panorama.published.picture_png_r16x9.count                  170 non-null    float64\n",
            " 39  external_panorama.published.picture_png_r16x9.preview_first_frame    170 non-null    object \n",
            " 40  external_panorama.published.picture_png_r16x9.full_first_frame       170 non-null    object \n",
            " 41  external_panorama.published.picture_png_r16x9.high_res_first_frame   170 non-null    object \n",
            " 42  external_panorama.published.picture_jpeg_r16x9.count                 170 non-null    float64\n",
            " 43  external_panorama.published.picture_jpeg_r16x9.preview_first_frame   170 non-null    object \n",
            " 44  external_panorama.published.picture_jpeg_r16x9.full_first_frame      170 non-null    object \n",
            " 45  external_panorama.published.picture_jpeg_r16x9.high_res_first_frame  170 non-null    object \n",
            " 46  external_panorama.published.picture_webp_r16x9.count                 170 non-null    float64\n",
            " 47  external_panorama.published.picture_webp_r16x9.preview_first_frame   170 non-null    object \n",
            " 48  external_panorama.published.picture_webp_r16x9.full_first_frame      170 non-null    object \n",
            " 49  external_panorama.published.picture_webp_r16x9.high_res_first_frame  170 non-null    object \n",
            " 50  external_panorama.published.preview_r16x9.version                    170 non-null    float64\n",
            " 51  external_panorama.published.preview_r16x9.width                      170 non-null    float64\n",
            " 52  external_panorama.published.preview_r16x9.height                     170 non-null    float64\n",
            " 53  external_panorama.published.preview_r16x9.data                       170 non-null    object \n",
            " 54  video.url                                                            303 non-null    object \n",
            " 55  video.previews.small                                                 303 non-null    object \n",
            " 56  video.previews.full                                                  303 non-null    object \n",
            " 57  video.rutube_id                                                      155 non-null    object \n",
            " 58  video.embed_url                                                      303 non-null    object \n",
            " 59  video.youtube_id                                                     132 non-null    object \n",
            " 60  external_panorama.published.poi_count                                4 non-null      float64\n",
            " 61  video.vk_video_id                                                    16 non-null     object \n",
            " 62  interior_panorama.panoramas                                          3 non-null      object \n",
            "dtypes: float64(12), int64(2), object(49)\n",
            "memory usage: 3.6+ MB\n"
          ]
        }
      ],
      "source": [
        "dfState = df['state']\n",
        "\n",
        "dfState = pd.json_normalize(dfState)\n",
        "dfState.info() #condition"
      ]
    },
    {
      "cell_type": "code",
      "execution_count": 43,
      "metadata": {
        "colab": {
          "base_uri": "https://localhost:8080/"
        },
        "id": "I1EWRIgziiAr",
        "outputId": "f1318c5d-dd95-4634-b5da-6aeddb79a82e"
      },
      "outputs": [
        {
          "name": "stdout",
          "output_type": "stream",
          "text": [
            "<class 'pandas.core.series.Series'>\n",
            "Index: 126 entries, Detroit2016 to without_mileage_in_russia\n",
            "Series name: None\n",
            "Non-Null Count  Dtype\n",
            "--------------  -----\n",
            "126 non-null    int64\n",
            "dtypes: int64(1)\n",
            "memory usage: 6.0+ KB\n"
          ]
        }
      ],
      "source": [
        "df_tags = pd.get_dummies(df['tags'].apply(pd.Series).stack()).sum()\n",
        "df_tags.info() #dummies"
      ]
    },
    {
      "cell_type": "code",
      "execution_count": 44,
      "metadata": {
        "colab": {
          "base_uri": "https://localhost:8080/"
        },
        "id": "ayc0Tw2YknQp",
        "outputId": "c4706b60-760a-4bd2-fb3e-83e607fdf958"
      },
      "outputs": [
        {
          "name": "stdout",
          "output_type": "stream",
          "text": [
            "<class 'pandas.core.frame.DataFrame'>\n",
            "RangeIndex: 7400 entries, 0 to 7399\n",
            "Data columns (total 8 columns):\n",
            " #   Column                              Non-Null Count  Dtype  \n",
            "---  ------                              --------------  -----  \n",
            " 0   transport_tax.tax_by_year           7199 non-null   float64\n",
            " 1   transport_tax.year                  7199 non-null   float64\n",
            " 2   transport_tax.rid                   7199 non-null   float64\n",
            " 3   transport_tax.rate                  7127 non-null   float64\n",
            " 4   transport_tax.horse_power           7199 non-null   float64\n",
            " 5   transport_tax.holding_period_month  7199 non-null   float64\n",
            " 6   transport_tax.boost                 7199 non-null   float64\n",
            " 7   osago_insurance                     3550 non-null   object \n",
            "dtypes: float64(7), object(1)\n",
            "memory usage: 462.6+ KB\n"
          ]
        }
      ],
      "source": [
        "dfOwner = df['owner_expenses']\n",
        "\n",
        "dfOwner = pd.json_normalize(dfOwner)\n",
        "dfOwner.info() #transport_tax.horse_power"
      ]
    },
    {
      "cell_type": "code",
      "execution_count": 45,
      "metadata": {
        "colab": {
          "base_uri": "https://localhost:8080/"
        },
        "id": "a0WIDLQG8NVQ",
        "outputId": "2fa05c79-03b4-4b23-df0d-2b3346553316"
      },
      "outputs": [
        {
          "name": "stdout",
          "output_type": "stream",
          "text": [
            "<class 'pandas.core.frame.DataFrame'>\n",
            "RangeIndex: 7400 entries, 0 to 7399\n",
            "Columns: 296 entries, steering_wheel to equipment.775\n",
            "dtypes: bool(1), float64(18), int64(5), object(272)\n",
            "memory usage: 16.7+ MB\n",
            "steering_wheel\n",
            "vendor\n",
            "configuration.body_type\n",
            "configuration.id\n",
            "configuration.doors_count\n",
            "configuration.auto_class\n",
            "configuration.human_name\n",
            "configuration.trunk_volume_min\n",
            "configuration.trunk_volume_max\n",
            "configuration.body_type_group\n",
            "configuration.seats\n",
            "configuration.main_photo.name\n",
            "configuration.main_photo.sizes.orig\n",
            "configuration.main_photo.sizes.wizardv3mr\n",
            "configuration.main_photo.sizes.cattouch\n",
            "configuration.main_photo.sizes.main\n",
            "configuration.main_photo.sizes.mini-card\n",
            "configuration.main_photo.sizes.mobile\n",
            "configuration.main_photo.base_url\n",
            "configuration.main_photo.aliases\n",
            "configuration.tags\n",
            "configuration.landing_description\n",
            "configuration.width_mirrors\n",
            "configuration.turning_circle\n",
            "configuration.body_code\n",
            "complectation.id\n",
            "equipment.seats-5\n",
            "mark_info.code\n",
            "mark_info.name\n",
            "mark_info.ru_name\n",
            "mark_info.logo.name\n",
            "mark_info.logo.sizes.logo\n",
            "mark_info.logo.sizes.big-logo\n",
            "mark_info.logo.sizes.black-logo\n",
            "mark_info.logo.base_url\n",
            "mark_info.numeric_id\n",
            "mark_info.transcription\n",
            "model_info.code\n",
            "model_info.name\n",
            "model_info.ru_name\n",
            "model_info.morphology.gender\n",
            "model_info.nameplate.code\n",
            "model_info.nameplate.name\n",
            "model_info.nameplate.semantic_url\n",
            "model_info.nameplate.no_model\n",
            "model_info.transcription\n",
            "model_info.audio_transcription\n",
            "super_gen.id\n",
            "super_gen.name\n",
            "super_gen.ru_name\n",
            "super_gen.year_from\n",
            "super_gen.year_to\n",
            "super_gen.price_segment\n",
            "super_gen.purpose_group\n",
            "tech_param.gear_type\n",
            "tech_param.engine_type\n",
            "tech_param.transmission\n",
            "tech_param.id\n",
            "tech_param.name\n",
            "tech_param.nameplate\n",
            "tech_param.displacement\n",
            "tech_param.power\n",
            "tech_param.power_kvt\n",
            "tech_param.human_name\n",
            "tech_param.acceleration\n",
            "tech_param.clearance_min\n",
            "tech_param.fuel_rate\n",
            "tech_param.trunk_volume_min\n",
            "tech_param.valvetrain\n",
            "tech_param.power_docs\n",
            "tech_param.electric_range\n",
            "tech_param.charge_time\n",
            "tech_param.battery_capacity\n",
            "tech_param.trunk_volume_max\n",
            "tech_param.ev_battery_type\n",
            "tech_param.quick_charge_time\n",
            "tech_param.quick_charge_description\n",
            "tech_param.charging_port_type\n",
            "tech_param.consumption_calc\n",
            "tech_param.consump_kwt\n",
            "equipment.alarm\n",
            "equipment.audiosystem-cd\n",
            "equipment.wheel-power\n",
            "equipment.computer\n",
            "equipment.audiopreparation\n",
            "equipment.14-inch-wheels\n",
            "equipment.ptf\n",
            "equipment.fabric-seats\n",
            "equipment.airbag-driver\n",
            "equipment.seats-2\n",
            "equipment.steel-wheels\n",
            "equipment.usb\n",
            "complectation.name\n",
            "complectation.available_options\n",
            "complectation.vendor_colors\n",
            "equipment.music-super\n",
            "equipment.windcleaner-heat\n",
            "equipment.light-sensor\n",
            "equipment.driver-seat-support\n",
            "equipment.dha\n",
            "equipment.airbag-side\n",
            "equipment.electro-trunk\n",
            "equipment.automatic-lighting-control\n",
            "equipment.front-seats-heat\n",
            "equipment.tyre-pressure\n",
            "equipment.front-seats-heat-vent\n",
            "equipment.multizone-climate-control\n",
            "equipment.20-inch-wheels\n",
            "equipment.door-sill-panel\n",
            "equipment.leather-gear-stick\n",
            "equipment.driver-seat-updown\n",
            "equipment.voice-recognition\n",
            "equipment.hcc\n",
            "equipment.rear-camera\n",
            "equipment.third-rear-headrest\n",
            "equipment.wireless-charger\n",
            "equipment.light-cleaner\n",
            "equipment.knee-airbag\n",
            "equipment.android-auto\n",
            "equipment.front-centre-armrest\n",
            "equipment.roof-rails\n",
            "equipment.wheel-configuration2\n",
            "equipment.cruise-control\n",
            "equipment.adaptive-light\n",
            "equipment.seats-4\n",
            "equipment.blind-spot\n",
            "equipment.climate-control-2\n",
            "equipment.apple-carplay\n",
            "equipment.passenger-seat-updown\n",
            "equipment.seat-transformation\n",
            "equipment.lock\n",
            "equipment.passenger-seat-electric\n",
            "equipment.drive-mode-sys\n",
            "equipment.electro-mirrors\n",
            "equipment.isofix\n",
            "equipment.heated-wash-system\n",
            "equipment.start-button\n",
            "equipment.wheel-configuration1\n",
            "equipment.e-adjustment-wheel\n",
            "equipment.glonass\n",
            "equipment.activ-suspension\n",
            "equipment.keyless-entry\n",
            "equipment.airbag-rear-side\n",
            "equipment.condition\n",
            "equipment.leather\n",
            "equipment.asr\n",
            "equipment.roller-blinds-for-rear-side-windows\n",
            "equipment.climate-control-1\n",
            "equipment.drl\n",
            "equipment.front-seat-support\n",
            "equipment.steering-wheel-gear-shift-paddles\n",
            "equipment.airbag-curtain\n",
            "equipment.electro-window-front\n",
            "equipment.navigation\n",
            "equipment.mirrors-heat\n",
            "equipment.bluetooth\n",
            "equipment.front-camera\n",
            "equipment.spare-wheel\n",
            "equipment.electronic-gage-panel\n",
            "equipment.wheel-memory\n",
            "equipment.airbag-passenger\n",
            "equipment.windscreen-heat\n",
            "equipment.high-beam-assist\n",
            "equipment.wheel-leather\n",
            "equipment.park-assist-r\n",
            "equipment.air-suspension\n",
            "equipment.vsm\n",
            "equipment.driver-seat-memory\n",
            "equipment.abs\n",
            "equipment.multi-wheel\n",
            "equipment.immo\n",
            "equipment.360-camera\n",
            "equipment.driver-seat-electric\n",
            "equipment.esp\n",
            "equipment.wheel-heat\n",
            "equipment.auto-mirrors\n",
            "equipment.led-lights\n",
            "equipment.audiosystem-tv\n",
            "equipment.bas\n",
            "equipment.12v-socket\n",
            "equipment.220v-socket\n",
            "equipment.rain-sensor\n",
            "equipment.park-assist-f\n",
            "equipment.electro-window-back\n",
            "equipment.start-stop-function\n",
            "equipment.18-inch-wheels\n",
            "equipment.aux\n",
            "equipment.rear-seats-heat\n",
            "equipment.seat-memory\n",
            "equipment.isofix-front\n",
            "equipment.tinted-glass\n",
            "equipment.ashtray-and-cigarette-lighter\n",
            "equipment.power-child-locks-rear-doors\n",
            "equipment.ya-auto\n",
            "equipment.body-mouldings\n",
            "equipment.engine-proof\n",
            "equipment.paint-metallic\n",
            "equipment.dark-interior\n",
            "equipment.xenon\n",
            "equipment.alloy-wheel-disks\n",
            "equipment.17-inch-wheels\n",
            "equipment.auto-dimming-mirror\n",
            "equipment.lane-keeping-assist\n",
            "equipment.power-latching-doors\n",
            "equipment.projection-display\n",
            "equipment.auto-park\n",
            "equipment.servo\n",
            "equipment.volume-sensor\n",
            "equipment.sport-seats\n",
            "equipment.seats-6\n",
            "equipment.traffic-sign-recognition\n",
            "equipment.21-inch-wheels\n",
            "equipment.decorative-interior-lighting\n",
            "equipment.collision-prevention-assist\n",
            "equipment.hatch\n",
            "equipment.body-kit\n",
            "equipment.panorama-roof\n",
            "equipment.third-row-seats\n",
            "equipment.fcw\n",
            "equipment.ldw\n",
            "equipment.easy-trunk-opening\n",
            "equipment.auto-cruise\n",
            "equipment.drowsy-driver-alert-system\n",
            "equipment.19-inch-wheels\n",
            "equipment.16-inch-wheels\n",
            "equipment.combo-interior\n",
            "equipment.folding-tables-rear\n",
            "equipment.feedback-alarm\n",
            "equipment.remote-engine-start\n",
            "configuration.notice\n",
            "equipment.reduce-spare-wheel\n",
            "equipment.15-inch-wheels\n",
            "equipment.gbo\n",
            "equipment.rus-multi\n",
            "equipment.turnbuckle\n",
            "equipment.light-interior\n",
            "equipment.cooling-box\n",
            "equipment.pedestrian-detection\n",
            "equipment.black-roof\n",
            "equipment.knee-airbag-pass\n",
            "equipment.folding-front-passenger-seat\n",
            "equipment.central-airbag\n",
            "equipment.rcta\n",
            "equipment.tja\n",
            "equipment.sport-suspension\n",
            "equipment.sport-pedals\n",
            "equipment.mirrors-memory\n",
            "equipment.rear-armrest\n",
            "equipment.eco-leather\n",
            "tech_param.clearance_max\n",
            "tech_param.battery_capacity_useful\n",
            "equipment.velvet-seats\n",
            "equipment.remote-car-services\n",
            "equipment.alcantara\n",
            "equipment.22-inch-wheels\n",
            "equipment.rear-seat-heat-vent\n",
            "equipment.electro-rear-seat\n",
            "equipment.seats-7\n",
            "equipment.programmed-block-heater\n",
            "equipment.duo-body-color\n",
            "equipment.entertainment-system-for-rear-seat-passengers\n",
            "equipment.seats-8\n",
            "equipment.massage-seats\n",
            "equipment.laminated-safety-glass\n",
            "tech_param.max_power_in\n",
            "equipment.laser-lights\n",
            "configuration.landing_photo_main.sizes.orig\n",
            "configuration.landing_photo_main.base_url\n",
            "configuration.landing_photo_main.aliases\n",
            "configuration.landing_photo_promo.sizes.orig\n",
            "configuration.landing_photo_promo.base_url\n",
            "configuration.landing_photo_promo.aliases\n",
            "equipment.roller-blind-for-rear-window\n",
            "equipment.night-vision\n",
            "equipment.adj-pedals\n",
            "tech_param.valvetrain_drive\n",
            "equipment.armored\n",
            "equipment.23-inch-wheels\n",
            "equipment.12-inch-wheels\n",
            "equipment.13-inch-wheels\n",
            "equipment.seats-9\n",
            "equipment.airbrush\n",
            "equipment.28-inch-wheels\n",
            "tech_param.battery_temp\n",
            "equipment.4E7\n",
            "equipment.7Y1\n",
            "equipment.7X5\n",
            "equipment.8X1\n",
            "equipment.3B3\n",
            "equipment.6E3\n",
            "equipment.710\n",
            "equipment.5AC\n",
            "equipment.2VB\n",
            "equipment.417\n",
            "equipment.688\n",
            "equipment.775\n"
          ]
        }
      ],
      "source": [
        "dfVehicle_info = df['vehicle_info']\n",
        "\n",
        "dfVehicle_info = pd.json_normalize(dfVehicle_info)\n",
        "dfVehicle_info.info() #configuration.body_type configuration.auto_class mark_info.logo.name model_info.name\n",
        "\n",
        "for col in dfVehicle_info.columns:\n",
        "    print(col)"
      ]
    },
    {
      "cell_type": "code",
      "execution_count": 46,
      "metadata": {
        "colab": {
          "base_uri": "https://localhost:8080/"
        },
        "id": "kaSWfnNuydN0",
        "outputId": "84406b74-dc83-4eac-e6a7-752c3cf6933b"
      },
      "outputs": [
        {
          "data": {
            "text/plain": [
              "array(['Lada (ВАЗ)', 'Volkswagen', 'Volvo', 'Skoda', 'Lexus',\n",
              "       'Mitsubishi', 'Audi', 'BMW', 'Jeep', 'Kia', 'SsangYong', 'Mini',\n",
              "       'Renault', 'Ford', 'Mazda', 'Bentley', 'Nissan', 'Mercedes-Benz',\n",
              "       'Hyundai', 'Toyota', 'Daewoo', 'Genesis', 'Infiniti', 'Datsun',\n",
              "       'Exeed', 'Citroen', 'Land Rover', 'Porsche', 'LiXiang', 'Honda',\n",
              "       'Renault Samsung', 'BYD', 'Opel', 'Haval', 'ЗАЗ', 'Peugeot',\n",
              "       'Fiat', 'Chevrolet', 'Ram', 'Geely', 'CHERY', 'Avatr', 'Zeekr',\n",
              "       'УАЗ', 'Xcite', 'Tank', 'Dodge', 'Subaru', 'Cadillac', 'Changfeng',\n",
              "       'ГАЗ', 'Москвич', 'BAIC', 'GMC', 'Lifan', 'Great Wall', 'Suzuki',\n",
              "       'Seres', 'Lynk & Co', 'Jaguar', 'Zotye', 'Changan', 'SWM',\n",
              "       'Xiaomi', 'Denza', 'Proton', 'Tesla', 'Voyah', 'Buick',\n",
              "       'GAC Trumpchi', 'Acura', 'Omoda', 'Jetour', 'Alpina', 'Ambertruck',\n",
              "       'Rolls-Royce', 'GAC', 'Lincoln', 'Aito', 'Lamborghini', 'Ferrari',\n",
              "       'Maserati', 'Bugatti', 'Foton', 'MG', 'Saab', 'iCar', 'Belgee',\n",
              "       'Oting', 'Smart', 'Polar Stone (Jishi)', 'Livan', 'JAC', 'Solaris',\n",
              "       'Alfa Romeo', 'Hongqi', 'Chrysler', 'Daihatsu', 'HiPhi', 'Jaecoo',\n",
              "       'Packard'], dtype=object)"
            ]
          },
          "execution_count": 46,
          "metadata": {},
          "output_type": "execute_result"
        }
      ],
      "source": [
        "dfVehicle_info['mark_info.name'].unique()"
      ]
    },
    {
      "cell_type": "code",
      "execution_count": 47,
      "metadata": {
        "colab": {
          "base_uri": "https://localhost:8080/"
        },
        "id": "IiQfHYzsi_fO",
        "outputId": "c363a4fb-4c40-477f-cf3b-3b7c6ecbfe13"
      },
      "outputs": [
        {
          "name": "stdout",
          "output_type": "stream",
          "text": [
            "<class 'pandas.core.frame.DataFrame'>\n",
            "Index: 7526 entries, Detroit2016 to 7399\n",
            "Data columns (total 10 columns):\n",
            " #   Column                     Non-Null Count  Dtype  \n",
            "---  ------                     --------------  -----  \n",
            " 0   0                          126 non-null    float64\n",
            " 1   mileage                    7400 non-null   float64\n",
            " 2   EUR                        7400 non-null   float64\n",
            " 3   owners_number              7400 non-null   float64\n",
            " 4   year                       7400 non-null   float64\n",
            " 5   transport_tax.horse_power  7199 non-null   float64\n",
            " 6   configuration.body_type    7400 non-null   object \n",
            " 7   configuration.auto_class   7396 non-null   object \n",
            " 8   mark_info.name             7400 non-null   object \n",
            " 9   tech_param.power           7400 non-null   float64\n",
            "dtypes: float64(7), object(3)\n",
            "memory usage: 646.8+ KB\n"
          ]
        }
      ],
      "source": [
        "dfs = [df_tags, dfState['mileage'], dfPrice[\"EUR\"], dfDocuments[\"owners_number\"], dfDocuments[\"year\"], dfOwner[\"transport_tax.horse_power\"], dfVehicle_info['configuration.body_type'],\n",
        "       dfVehicle_info['configuration.auto_class'], dfVehicle_info['mark_info.name'],\n",
        "       dfVehicle_info['tech_param.power']]\n",
        "df_res = pd.concat(dfs, axis=1)\n",
        "\n",
        "df_res.info()"
      ]
    },
    {
      "cell_type": "markdown",
      "metadata": {
        "id": "JI_bxIGOmdBD"
      },
      "source": [
        "## Dataset preparation"
      ]
    },
    {
      "cell_type": "code",
      "execution_count": 48,
      "metadata": {
        "id": "I0bSRdCamiux"
      },
      "outputs": [],
      "source": [
        "df_res2 = pd.DataFrame(df_res)"
      ]
    },
    {
      "cell_type": "code",
      "execution_count": 49,
      "metadata": {
        "colab": {
          "base_uri": "https://localhost:8080/"
        },
        "id": "RzBpCFhFosJ3",
        "outputId": "a7597866-5585-4b9e-e5e7-d042fa278eb4"
      },
      "outputs": [
        {
          "data": {
            "text/plain": [
              "0                            True\n",
              "mileage                      True\n",
              "EUR                          True\n",
              "owners_number                True\n",
              "year                         True\n",
              "transport_tax.horse_power    True\n",
              "configuration.body_type      True\n",
              "configuration.auto_class     True\n",
              "mark_info.name               True\n",
              "tech_param.power             True\n",
              "dtype: bool"
            ]
          },
          "execution_count": 49,
          "metadata": {},
          "output_type": "execute_result"
        }
      ],
      "source": [
        "df_res2.isna().any()"
      ]
    },
    {
      "cell_type": "code",
      "execution_count": 50,
      "metadata": {
        "colab": {
          "base_uri": "https://localhost:8080/"
        },
        "id": "HtR2CGqlsOnZ",
        "outputId": "c1f29c63-8570-4931-d5b9-4b612c882c60"
      },
      "outputs": [
        {
          "name": "stdout",
          "output_type": "stream",
          "text": [
            "ALLROAD_3_DOORS: 0\n",
            "ALLROAD_5_DOORS: 1\n",
            "CABRIO: 2\n",
            "COMPACTVAN: 3\n",
            "COUPE: 4\n",
            "COUPE_HARDTOP: 5\n",
            "FASTBACK: 6\n",
            "HATCHBACK_3_DOORS: 7\n",
            "HATCHBACK_4_DOORS: 8\n",
            "HATCHBACK_5_DOORS: 9\n",
            "LIFTBACK: 10\n",
            "MICROVAN: 11\n",
            "MINIVAN: 12\n",
            "PICKUP_ONE_HALF: 13\n",
            "PICKUP_TWO: 14\n",
            "ROADSTER: 15\n",
            "SEDAN: 16\n",
            "TARGA: 17\n",
            "VAN: 18\n",
            "WAGON_5_DOORS: 19\n",
            "nan: 20\n"
          ]
        }
      ],
      "source": [
        "from sklearn.preprocessing import LabelEncoder\n",
        "\n",
        "label_encoder = LabelEncoder()\n",
        "\n",
        "# Transform the categorical column\n",
        "df_res2['configuration.body_type'] = label_encoder.fit_transform(df_res2['configuration.body_type'])\n",
        "\n",
        "# Print the mapping between original labels and encoded values\n",
        "for label, encoded_value in zip(label_encoder.classes_, label_encoder.transform(label_encoder.classes_)):\n",
        "    print(f\"{label}: {encoded_value}\")\n"
      ]
    },
    {
      "cell_type": "code",
      "execution_count": 51,
      "metadata": {
        "colab": {
          "base_uri": "https://localhost:8080/"
        },
        "id": "N54i1zcQ9fas",
        "outputId": "d5e044cd-568e-479a-b3be-e43c5dcaac9f"
      },
      "outputs": [
        {
          "name": "stdout",
          "output_type": "stream",
          "text": [
            "Acura: 0\n",
            "Aito: 1\n",
            "Alfa Romeo: 2\n",
            "Alpina: 3\n",
            "Ambertruck: 4\n",
            "Audi: 5\n",
            "Avatr: 6\n",
            "BAIC: 7\n",
            "BMW: 8\n",
            "BYD: 9\n",
            "Belgee: 10\n",
            "Bentley: 11\n",
            "Bugatti: 12\n",
            "Buick: 13\n",
            "CHERY: 14\n",
            "Cadillac: 15\n",
            "Changan: 16\n",
            "Changfeng: 17\n",
            "Chevrolet: 18\n",
            "Chrysler: 19\n",
            "Citroen: 20\n",
            "Daewoo: 21\n",
            "Daihatsu: 22\n",
            "Datsun: 23\n",
            "Denza: 24\n",
            "Dodge: 25\n",
            "Exeed: 26\n",
            "Ferrari: 27\n",
            "Fiat: 28\n",
            "Ford: 29\n",
            "Foton: 30\n",
            "GAC: 31\n",
            "GAC Trumpchi: 32\n",
            "GMC: 33\n",
            "Geely: 34\n",
            "Genesis: 35\n",
            "Great Wall: 36\n",
            "Haval: 37\n",
            "HiPhi: 38\n",
            "Honda: 39\n",
            "Hongqi: 40\n",
            "Hyundai: 41\n",
            "Infiniti: 42\n",
            "JAC: 43\n",
            "Jaecoo: 44\n",
            "Jaguar: 45\n",
            "Jeep: 46\n",
            "Jetour: 47\n",
            "Kia: 48\n",
            "Lada (ВАЗ): 49\n",
            "Lamborghini: 50\n",
            "Land Rover: 51\n",
            "Lexus: 52\n",
            "LiXiang: 53\n",
            "Lifan: 54\n",
            "Lincoln: 55\n",
            "Livan: 56\n",
            "Lynk & Co: 57\n",
            "MG: 58\n",
            "Maserati: 59\n",
            "Mazda: 60\n",
            "Mercedes-Benz: 61\n",
            "Mini: 62\n",
            "Mitsubishi: 63\n",
            "Nissan: 64\n",
            "Omoda: 65\n",
            "Opel: 66\n",
            "Oting: 67\n",
            "Packard: 68\n",
            "Peugeot: 69\n",
            "Polar Stone (Jishi): 70\n",
            "Porsche: 71\n",
            "Proton: 72\n",
            "Ram: 73\n",
            "Renault: 74\n",
            "Renault Samsung: 75\n",
            "Rolls-Royce: 76\n",
            "SWM: 77\n",
            "Saab: 78\n",
            "Seres: 79\n",
            "Skoda: 80\n",
            "Smart: 81\n",
            "Solaris: 82\n",
            "SsangYong: 83\n",
            "Subaru: 84\n",
            "Suzuki: 85\n",
            "Tank: 86\n",
            "Tesla: 87\n",
            "Toyota: 88\n",
            "Volkswagen: 89\n",
            "Volvo: 90\n",
            "Voyah: 91\n",
            "Xcite: 92\n",
            "Xiaomi: 93\n",
            "Zeekr: 94\n",
            "Zotye: 95\n",
            "iCar: 96\n",
            "ГАЗ: 97\n",
            "ЗАЗ: 98\n",
            "Москвич: 99\n",
            "УАЗ: 100\n",
            "nan: 101\n"
          ]
        }
      ],
      "source": [
        "from sklearn.preprocessing import LabelEncoder\n",
        "\n",
        "label_encoder = LabelEncoder()\n",
        "\n",
        "# Transform the categorical column\n",
        "df_res2['mark_info.name'] = label_encoder.fit_transform(df_res2['mark_info.name'])\n",
        "\n",
        "# Print the mapping between original labels and encoded values\n",
        "for label, encoded_value in zip(label_encoder.classes_, label_encoder.transform(label_encoder.classes_)):\n",
        "    print(f\"{label}: {encoded_value}\")"
      ]
    },
    {
      "cell_type": "code",
      "execution_count": 52,
      "metadata": {
        "colab": {
          "base_uri": "https://localhost:8080/"
        },
        "id": "49SAP_eSmoa6",
        "outputId": "56670ef7-689d-4c09-db77-d1db2357146e"
      },
      "outputs": [
        {
          "name": "stdout",
          "output_type": "stream",
          "text": [
            "['configuration.auto_class']\n",
            "[0, 'mileage', 'EUR', 'owners_number', 'year', 'transport_tax.horse_power', 'configuration.body_type', 'mark_info.name', 'tech_param.power']\n"
          ]
        }
      ],
      "source": [
        "categorical_columns = [c for c in df_res2.columns if df_res2[c].dtype.name == 'object']\n",
        "numerical_columns   = [c for c in df_res2.columns if df_res2[c].dtype.name != 'object']\n",
        "\n",
        "print(categorical_columns)\n",
        "print(numerical_columns)"
      ]
    },
    {
      "cell_type": "code",
      "execution_count": 53,
      "metadata": {
        "id": "tYEFhcDEpBuu"
      },
      "outputs": [],
      "source": [
        "label_encoder = LabelEncoder()\n",
        "\n",
        "for categorical_column in categorical_columns:\n",
        "    fill_value = df_res2[categorical_column].mode()[0]\n",
        "    df_res2[categorical_column] = df_res2[categorical_column].fillna(fill_value)\n",
        "    df_res2[categorical_column] = label_encoder.fit_transform(df_res2[categorical_column])\n"
      ]
    },
    {
      "cell_type": "code",
      "execution_count": 54,
      "metadata": {
        "id": "mrbtX7JqpJUu"
      },
      "outputs": [],
      "source": [
        "for numerical_column in numerical_columns:\n",
        "    fill_value = df_res2[numerical_column].median()\n",
        "    df_res2[numerical_column] = df_res2[numerical_column].fillna(fill_value)\n"
      ]
    },
    {
      "cell_type": "code",
      "execution_count": 55,
      "metadata": {
        "colab": {
          "base_uri": "https://localhost:8080/"
        },
        "id": "opsxBw5Ec_5C",
        "outputId": "0962f50e-97ac-4bba-93b8-0aa8e81e8550"
      },
      "outputs": [
        {
          "data": {
            "text/plain": [
              "1600.0"
            ]
          },
          "execution_count": 55,
          "metadata": {},
          "output_type": "execute_result"
        }
      ],
      "source": [
        "df_res2[\"tech_param.power\"].max()"
      ]
    },
    {
      "cell_type": "code",
      "execution_count": 56,
      "metadata": {
        "colab": {
          "base_uri": "https://localhost:8080/"
        },
        "id": "Le3wRHTMpR24",
        "outputId": "c3fdfaaa-b237-49c1-bf9e-8934728660fc"
      },
      "outputs": [
        {
          "data": {
            "text/plain": [
              "0                            False\n",
              "mileage                      False\n",
              "EUR                          False\n",
              "owners_number                False\n",
              "year                         False\n",
              "transport_tax.horse_power    False\n",
              "configuration.body_type      False\n",
              "configuration.auto_class     False\n",
              "mark_info.name               False\n",
              "tech_param.power             False\n",
              "dtype: bool"
            ]
          },
          "execution_count": 56,
          "metadata": {},
          "output_type": "execute_result"
        }
      ],
      "source": [
        "df_res2.isna().any()"
      ]
    },
    {
      "cell_type": "code",
      "execution_count": 57,
      "metadata": {
        "colab": {
          "base_uri": "https://localhost:8080/",
          "height": 682
        },
        "id": "EzdYizl1q7Pf",
        "outputId": "ebbaae56-2a49-4422-ad20-91ee8ce83cfb"
      },
      "outputs": [
        {
          "data": {
            "text/plain": [
              "<Axes: >"
            ]
          },
          "execution_count": 57,
          "metadata": {},
          "output_type": "execute_result"
        },
        {
          "data": {
            "image/png": "[encoded data removed]",
            "text/plain": [
              "<Figure size 640x480 with 2 Axes>"
            ]
          },
          "metadata": {},
          "output_type": "display_data"
        }
      ],
      "source": [
        "correlation_matrix = df_res2.corr()\n",
        "\n",
        "filtered = pd.DataFrame()\n",
        "\n",
        "for column in correlation_matrix.columns:\n",
        "  for index in correlation_matrix.index:\n",
        "    if column != index and abs(correlation_matrix.loc[column, index]) > 0.6: \n",
        "      filtered[column] = df_res2[column]\n",
        "      filtered[index] = df_res2[index]\n",
        "\n",
        "\n",
        "# Отображение heatmap\n",
        "import seaborn as sns\n",
        "sns.heatmap(filtered.corr())"
      ]
    },
    {
      "cell_type": "code",
      "execution_count": 58,
      "metadata": {
        "colab": {
          "base_uri": "https://localhost:8080/"
        },
        "id": "qBhA0Jsmrwyw",
        "outputId": "7a67d4cf-3e7d-431b-90b2-86901045a958"
      },
      "outputs": [
        {
          "data": {
            "text/plain": [
              "Index(['mileage', 'year', 'owners_number', 'transport_tax.horse_power',\n",
              "       'tech_param.power'],\n",
              "      dtype='object')"
            ]
          },
          "execution_count": 58,
          "metadata": {},
          "output_type": "execute_result"
        }
      ],
      "source": [
        "filtered.columns"
      ]
    },
    {
      "cell_type": "code",
      "execution_count": 59,
      "metadata": {
        "colab": {
          "base_uri": "https://localhost:8080/"
        },
        "id": "f2tvRQqfNjqd",
        "outputId": "71bf9bb8-2836-4d18-8cca-fae292917ac3"
      },
      "outputs": [
        {
          "name": "stdout",
          "output_type": "stream",
          "text": [
            "0\n",
            "mileage\n",
            "EUR\n",
            "owners_number\n",
            "year\n",
            "transport_tax.horse_power\n",
            "configuration.body_type\n",
            "configuration.auto_class\n",
            "mark_info.name\n",
            "tech_param.power\n"
          ]
        }
      ],
      "source": [
        "for col in df_res2.columns:\n",
        "    print(col)"
      ]
    },
    {
      "cell_type": "markdown",
      "metadata": {
        "id": "iPN5L4z3jTEQ"
      },
      "source": [
        "# Model Training and saving"
      ]
    },
    {
      "cell_type": "code",
      "execution_count": 60,
      "metadata": {
        "id": "NIXaqscujIjs"
      },
      "outputs": [],
      "source": [
        "X = df_res2[[ 'mileage',\n",
        "              'owners_number',\n",
        "              'year', 'transport_tax.horse_power',\n",
        "              'configuration.body_type',  'configuration.auto_class',\n",
        "              'mark_info.name',          'tech_param.power']]\n",
        "y = df_res2['EUR']\n",
        "\n",
        "# Обучающаяся и тестовая выборка\n",
        "from sklearn.model_selection  import train_test_split\n",
        "X_train, X_test, y_train, y_test = train_test_split(X, y, test_size = 0.3, random_state = 11)"
      ]
    },
    {
      "cell_type": "code",
      "execution_count": 61,
      "metadata": {},
      "outputs": [
        {
          "name": "stdout",
          "output_type": "stream",
          "text": [
            "max price = 9691143.0\n",
            "min price = 417.0\n"
          ]
        }
      ],
      "source": [
        "print (\"max price = \" + str(y.max()))\n",
        "print (\"min price = \" + str(y.min()))"
      ]
    },
    {
      "cell_type": "markdown",
      "metadata": {},
      "source": [
        "## Random Forest"
      ]
    },
    {
      "cell_type": "code",
      "execution_count": 62,
      "metadata": {
        "colab": {
          "base_uri": "https://localhost:8080/"
        },
        "id": "yONZs_py1SX-",
        "outputId": "96a340bc-0827-4ddc-b8f9-140c3525c5e2"
      },
      "outputs": [
        {
          "name": "stdout",
          "output_type": "stream",
          "text": [
            "MAE: 7724.166532762842\n"
          ]
        }
      ],
      "source": [
        "from sklearn.model_selection import train_test_split\n",
        "from sklearn.ensemble import RandomForestRegressor\n",
        "from sklearn.metrics import mean_absolute_error\n",
        "\n",
        "modelForest = RandomForestRegressor()\n",
        "modelForest.fit(X_train, y_train)\n",
        "\n",
        "Y_pred = modelForest.predict(X_test)\n",
        "mae = mean_absolute_error(y_test, Y_pred)\n",
        "print(\"MAE:\", mae)\n"
      ]
    },
    {
      "cell_type": "markdown",
      "metadata": {},
      "source": [
        "## GradientBoostingRegressor"
      ]
    },
    {
      "cell_type": "code",
      "execution_count": 63,
      "metadata": {},
      "outputs": [
        {
          "name": "stdout",
          "output_type": "stream",
          "text": [
            "MAE with Gradient Boosting: 12354.392542359123\n"
          ]
        }
      ],
      "source": [
        "from sklearn.ensemble import GradientBoostingRegressor\n",
        "\n",
        "modelGradient = GradientBoostingRegressor()\n",
        "modelGradient.fit(X_train, y_train)\n",
        "\n",
        "y_pred = modelGradient.predict(X_test)\n",
        "mae = mean_absolute_error(y_test, y_pred)\n",
        "print(\"MAE with Gradient Boosting:\", mae) "
      ]
    },
    {
      "cell_type": "markdown",
      "metadata": {},
      "source": [
        "## support vector regression"
      ]
    },
    {
      "cell_type": "code",
      "execution_count": 64,
      "metadata": {},
      "outputs": [
        {
          "name": "stdout",
          "output_type": "stream",
          "text": [
            "MAE with SVR: 33368.00795488111\n"
          ]
        }
      ],
      "source": [
        "from sklearn.svm import SVR\n",
        "model = SVR()\n",
        "from sklearn.metrics import mean_absolute_error\n",
        "\n",
        "model = SVR()\n",
        "model.fit(X_train, y_train)\n",
        "\n",
        "y_pred = model.predict(X_test)\n",
        "mae = mean_absolute_error(y_test, y_pred)\n",
        "print(\"MAE with SVR:\", mae) "
      ]
    },
    {
      "cell_type": "markdown",
      "metadata": {},
      "source": [
        "Let's compare MAE"
      ]
    },
    {
      "cell_type": "code",
      "execution_count": 67,
      "metadata": {},
      "outputs": [
        {
          "data": {
            "image/png": "[encoded data removed]",
            "text/plain": [
              "<Figure size 640x480 with 1 Axes>"
            ]
          },
          "metadata": {},
          "output_type": "display_data"
        }
      ],
      "source": [
        "import matplotlib.pyplot as plt\n",
        "\n",
        "\n",
        "labels = ['Forest', 'GradientBoosting', 'SVR']\n",
        "mae_values = [7724, 12354, 33368]\n",
        "\n",
        "plt.bar(labels, mae_values, color=['blue', 'orange', 'green'])\n",
        "plt.xlabel('Models')\n",
        "plt.ylabel('MAE')\n",
        "plt.title('Comparison of MAE')\n",
        "plt.show()"
      ]
    },
    {
      "cell_type": "markdown",
      "metadata": {},
      "source": [
        "### Predictions"
      ]
    },
    {
      "cell_type": "markdown",
      "metadata": {},
      "source": [
        "so, the random forest is the best model here. let's save take a look at how to use it and save it after that."
      ]
    },
    {
      "cell_type": "code",
      "execution_count": 65,
      "metadata": {
        "colab": {
          "base_uri": "https://localhost:8080/"
        },
        "id": "jmF8UnjT28Yw",
        "outputId": "9db52741-066f-4ed0-8c4b-81393bb92506"
      },
      "outputs": [
        {
          "name": "stdout",
          "output_type": "stream",
          "text": [
            "Predicted Value: [37121.21]\n"
          ]
        }
      ],
      "source": [
        "new_data = pd.DataFrame({\n",
        "'mileage': [169000],\n",
        "'owners_number': [2],\n",
        "'year': [2014], \n",
        "'transport_tax.horse_power': [173],\n",
        "'configuration.body_type': [1],  \n",
        "'configuration.auto_class': [1],\n",
        "'mark_info.name': [75],\n",
        "'tech_param.power': [435],\n",
        "}, index=[0])\n",
        "\n",
        "\n",
        "# Use the trained model to make predictions\n",
        "predicted_value = modelForest.predict(new_data)\n",
        "\n",
        "print(\"Predicted Value:\", predicted_value)\n"
      ]
    },
    {
      "cell_type": "markdown",
      "metadata": {},
      "source": [
        "## Save model"
      ]
    },
    {
      "cell_type": "code",
      "execution_count": 66,
      "metadata": {
        "colab": {
          "base_uri": "https://localhost:8080/"
        },
        "id": "bZ7mNdG-hwds",
        "outputId": "293884a2-f946-4fb9-8c74-ea7a72c6ae42"
      },
      "outputs": [
        {
          "data": {
            "text/plain": [
              "['car_prediction.pkl']"
            ]
          },
          "execution_count": 66,
          "metadata": {},
          "output_type": "execute_result"
        }
      ],
      "source": [
        "import joblib\n",
        "joblib.dump(modelForest, 'car_prediction.pkl')\n",
        "#loaded_model = joblib.load('car_prediction.pkl')\n"
      ]
    }
  ],
  "metadata": {
    "colab": {
      "provenance": []
    },
    "kernelspec": {
      "display_name": "Python 3",
      "name": "python3"
    },
    "language_info": {
      "codemirror_mode": {
        "name": "ipython",
        "version": 3
      },
      "file_extension": ".py",
      "mimetype": "text/x-python",
      "name": "python",
      "nbconvert_exporter": "python",
      "pygments_lexer": "ipython3",
      "version": "3.10.6"
    }
  },
  "nbformat": 4,
  "nbformat_minor": 0
}
